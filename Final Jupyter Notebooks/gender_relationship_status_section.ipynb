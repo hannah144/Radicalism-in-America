{
 "cells": [
  {
   "cell_type": "code",
   "execution_count": 1,
   "metadata": {},
   "outputs": [
    {
     "name": "stdout",
     "output_type": "stream",
     "text": [
      "3.8.5 (default, Sep  4 2020, 02:22:02) \n",
      "[Clang 10.0.0 ]\n",
      "1.19.2\n",
      "1.1.3\n"
     ]
    }
   ],
   "source": [
    "import sys\n",
    "print(sys.version)\n",
    "import numpy as np\n",
    "print(np.__version__)\n",
    "import pandas as pd\n",
    "print(pd.__version__)\n",
    "import matplotlib.pyplot as plt\n",
    "import json\n",
    "import seaborn as sns\n",
    "\n",
    "%matplotlib inline"
   ]
  },
  {
   "cell_type": "code",
   "execution_count": 2,
   "metadata": {},
   "outputs": [],
   "source": [
    "# Load PIRUS Data\n",
    "pirus = pd.read_csv('../data/clean_data/pirus_deep_clean_Final.csv')\n",
    "\n",
    "# Load PIRUS Codebook\n",
    "with open('../data/clean_data/pirus_codebook.json') as f:\n",
    "    pirus_codebook = json.load(f)\n",
    "\n",
    "# Load Custom Color Map\n",
    "cmap = ['#E7E3DF', '#3186A9', '#EEAD9A', '#DBB03B', '#66759A', '#EBD79F', '#83684C', '#6D6E72', '#965341', '#8F917F', '#010503']"
   ]
  },
  {
   "cell_type": "code",
   "execution_count": 3,
   "metadata": {},
   "outputs": [
    {
     "data": {
      "text/html": [
       "<div>\n",
       "<style scoped>\n",
       "    .dataframe tbody tr th:only-of-type {\n",
       "        vertical-align: middle;\n",
       "    }\n",
       "\n",
       "    .dataframe tbody tr th {\n",
       "        vertical-align: top;\n",
       "    }\n",
       "\n",
       "    .dataframe thead th {\n",
       "        text-align: right;\n",
       "    }\n",
       "</style>\n",
       "<table border=\"1\" class=\"dataframe\">\n",
       "  <thead>\n",
       "    <tr style=\"text-align: right;\">\n",
       "      <th></th>\n",
       "      <th>marital_status</th>\n",
       "      <th>gender</th>\n",
       "      <th># of Instances</th>\n",
       "    </tr>\n",
       "  </thead>\n",
       "  <tbody>\n",
       "    <tr>\n",
       "      <th>5</th>\n",
       "      <td>Single</td>\n",
       "      <td>Male</td>\n",
       "      <td>615</td>\n",
       "    </tr>\n",
       "    <tr>\n",
       "      <th>3</th>\n",
       "      <td>Married</td>\n",
       "      <td>Male</td>\n",
       "      <td>367</td>\n",
       "    </tr>\n",
       "    <tr>\n",
       "      <th>1</th>\n",
       "      <td>Divorced</td>\n",
       "      <td>Male</td>\n",
       "      <td>98</td>\n",
       "    </tr>\n",
       "    <tr>\n",
       "      <th>2</th>\n",
       "      <td>Married</td>\n",
       "      <td>Female</td>\n",
       "      <td>64</td>\n",
       "    </tr>\n",
       "    <tr>\n",
       "      <th>4</th>\n",
       "      <td>Single</td>\n",
       "      <td>Female</td>\n",
       "      <td>45</td>\n",
       "    </tr>\n",
       "    <tr>\n",
       "      <th>0</th>\n",
       "      <td>Divorced</td>\n",
       "      <td>Female</td>\n",
       "      <td>10</td>\n",
       "    </tr>\n",
       "    <tr>\n",
       "      <th>6</th>\n",
       "      <td>Widowed</td>\n",
       "      <td>Female</td>\n",
       "      <td>7</td>\n",
       "    </tr>\n",
       "    <tr>\n",
       "      <th>7</th>\n",
       "      <td>Widowed</td>\n",
       "      <td>Male</td>\n",
       "      <td>6</td>\n",
       "    </tr>\n",
       "  </tbody>\n",
       "</table>\n",
       "</div>"
      ],
      "text/plain": [
       "  marital_status  gender  # of Instances\n",
       "5         Single    Male             615\n",
       "3        Married    Male             367\n",
       "1       Divorced    Male              98\n",
       "2        Married  Female              64\n",
       "4         Single  Female              45\n",
       "0       Divorced  Female              10\n",
       "6        Widowed  Female               7\n",
       "7        Widowed    Male               6"
      ]
     },
     "execution_count": 3,
     "metadata": {},
     "output_type": "execute_result"
    }
   ],
   "source": [
    "# Dictionary of simplified marital_status codes\n",
    "new_marital_codes = {4:'Widowed',3:'Divorced',2:'Married',1:'Single'}\n",
    "\n",
    "# Isolate gender codes dictionary in pirus_codebook\n",
    "gender_codes = pirus_codebook['gender']['codes']\n",
    "\n",
    "# Capture data of interest in df\n",
    "gendered_relationships = pd.DataFrame(pirus[['gender','marital_status', 'subject_id']])\n",
    "\n",
    "# Drop rows with NaNs in maritial_status \n",
    "gendered_relationships = gendered_relationships.dropna(subset=['marital_status'])\n",
    "\n",
    "# Change numerical marital_status & gender values to coded ones\n",
    "gendered_relationships['marital_status'] = gendered_relationships['marital_status'].apply(lambda x:new_marital_codes[int(x)])\n",
    "gendered_relationships['gender'] = gendered_relationships['gender'].apply(lambda x:gender_codes[str(int(x))])\n",
    "\n",
    "# Count subject_ids by marital_status & gender\n",
    "gendered_relationships = gendered_relationships['subject_id'].groupby([gendered_relationships['marital_status'], gendered_relationships['gender']]).count().to_frame(name = '# of Instances').reset_index()\n",
    "\n",
    "# Sort output by # of Instances in ascending order\n",
    "gendered_relationships = gendered_relationships.sort_values('# of Instances', ascending = False)\n",
    "\n",
    "gendered_relationships"
   ]
  },
  {
   "cell_type": "code",
   "execution_count": 6,
   "metadata": {},
   "outputs": [
    {
     "data": {
      "image/png": "[encoded data removed]",
      "text/plain": [
       "<Figure size 720x504 with 1 Axes>"
      ]
     },
     "metadata": {
      "needs_background": "light"
     },
     "output_type": "display_data"
    }
   ],
   "source": [
    "# Plot figure\n",
    "fig, ax = plt.subplots(figsize = (10,7))\n",
    "\n",
    "sns.barplot(x = '# of Instances', y = 'marital_status', \n",
    "            hue = 'gender', data = gendered_relationships, palette = ['#4d6456','#EEAD9A'], dodge=True, \n",
    "            linewidth=1.5, errcolor=\".2\", edgecolor=\".2\")\n",
    "\n",
    "# Set title\n",
    "ax.set_title('Single Men are most susceptible to radicalization', weight='bold',\n",
    "             loc = 'center', pad = 20).set_fontsize('18')\n",
    "\n",
    "# Set y axis\n",
    "ax.set_ylabel(\"\")\n",
    "ax.set_yticklabels(ax.get_yticklabels(), fontsize=14)\n",
    "ax.yaxis.set_label_coords(0.15,1.025)\n",
    "\n",
    "# Set x axis \n",
    "ax.set_xlabel(\"Radical Count\", fontsize = 14)\n",
    "ax.set(xlim = (0,700))\n",
    "\n",
    "# Remove Legend\n",
    "ax.get_legend().remove()\n",
    "\n",
    "# Add annotations\n",
    "annote1 = 'Men'\n",
    "plt.text(630, -.1, annote1, horizontalalignment='left', size=14, color='#010503', weight='normal')\n",
    "\n",
    "annote2 = 'Women'\n",
    "plt.text(60, .33, annote2, horizontalalignment='left', size=14, color='#010503', weight='normal')\n",
    "\n",
    "plt.show()"
   ]
  }
 ],
 "metadata": {
  "kernelspec": {
   "display_name": "Python 3",
   "language": "python",
   "name": "python3"
  },
  "language_info": {
   "codemirror_mode": {
    "name": "ipython",
    "version": 3
   },
   "file_extension": ".py",
   "mimetype": "text/x-python",
   "name": "python",
   "nbconvert_exporter": "python",
   "pygments_lexer": "ipython3",
   "version": "3.8.5"
  }
 },
 "nbformat": 4,
 "nbformat_minor": 4
}
