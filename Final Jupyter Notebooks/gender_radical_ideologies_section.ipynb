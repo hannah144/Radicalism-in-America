{
 "cells": [
  {
   "cell_type": "code",
   "execution_count": 1,
   "metadata": {},
   "outputs": [
    {
     "name": "stdout",
     "output_type": "stream",
     "text": [
      "3.8.5 (default, Sep  4 2020, 02:22:02) \n",
      "[Clang 10.0.0 ]\n",
      "1.19.2\n",
      "1.1.3\n"
     ]
    }
   ],
   "source": [
    "import sys\n",
    "print(sys.version)\n",
    "import numpy as np\n",
    "print(np.__version__)\n",
    "import pandas as pd\n",
    "print(pd.__version__)\n",
    "import matplotlib.pyplot as plt\n",
    "import json\n",
    "import seaborn as sns\n",
    "\n",
    "%matplotlib inline"
   ]
  },
  {
   "cell_type": "code",
   "execution_count": 2,
   "metadata": {},
   "outputs": [
    {
     "data": {
      "text/html": [
       "<svg  width=\"605\" height=\"55\"><rect x=\"0\" y=\"0\" width=\"55\" height=\"55\" style=\"fill:#e7e3df;stroke-width:2;stroke:rgb(255,255,255)\"/><rect x=\"55\" y=\"0\" width=\"55\" height=\"55\" style=\"fill:#3186a9;stroke-width:2;stroke:rgb(255,255,255)\"/><rect x=\"110\" y=\"0\" width=\"55\" height=\"55\" style=\"fill:#eead9a;stroke-width:2;stroke:rgb(255,255,255)\"/><rect x=\"165\" y=\"0\" width=\"55\" height=\"55\" style=\"fill:#dbb03b;stroke-width:2;stroke:rgb(255,255,255)\"/><rect x=\"220\" y=\"0\" width=\"55\" height=\"55\" style=\"fill:#66759a;stroke-width:2;stroke:rgb(255,255,255)\"/><rect x=\"275\" y=\"0\" width=\"55\" height=\"55\" style=\"fill:#ebd79f;stroke-width:2;stroke:rgb(255,255,255)\"/><rect x=\"330\" y=\"0\" width=\"55\" height=\"55\" style=\"fill:#83684c;stroke-width:2;stroke:rgb(255,255,255)\"/><rect x=\"385\" y=\"0\" width=\"55\" height=\"55\" style=\"fill:#6d6e72;stroke-width:2;stroke:rgb(255,255,255)\"/><rect x=\"440\" y=\"0\" width=\"55\" height=\"55\" style=\"fill:#965341;stroke-width:2;stroke:rgb(255,255,255)\"/><rect x=\"495\" y=\"0\" width=\"55\" height=\"55\" style=\"fill:#8f917f;stroke-width:2;stroke:rgb(255,255,255)\"/><rect x=\"550\" y=\"0\" width=\"55\" height=\"55\" style=\"fill:#010503;stroke-width:2;stroke:rgb(255,255,255)\"/></svg>"
      ],
      "text/plain": [
       "[(0.9058823529411765, 0.8901960784313725, 0.8745098039215686),\n",
       " (0.19215686274509805, 0.5254901960784314, 0.6627450980392157),\n",
       " (0.9333333333333333, 0.6784313725490196, 0.6039215686274509),\n",
       " (0.8588235294117647, 0.6901960784313725, 0.23137254901960785),\n",
       " (0.4, 0.4588235294117647, 0.6039215686274509),\n",
       " (0.9215686274509803, 0.8431372549019608, 0.6235294117647059),\n",
       " (0.5137254901960784, 0.40784313725490196, 0.2980392156862745),\n",
       " (0.42745098039215684, 0.43137254901960786, 0.4470588235294118),\n",
       " (0.5882352941176471, 0.3254901960784314, 0.2549019607843137),\n",
       " (0.5607843137254902, 0.5686274509803921, 0.4980392156862745),\n",
       " (0.00392156862745098, 0.0196078431372549, 0.011764705882352941)]"
      ]
     },
     "execution_count": 2,
     "metadata": {},
     "output_type": "execute_result"
    }
   ],
   "source": [
    "# Load PIRUS Data\n",
    "pirus = pd.read_csv('../data/clean_data/pirus_deep_clean_Final.csv')\n",
    "\n",
    "# Load PIRUS Codebook\n",
    "with open('../data/clean_data/pirus_codebook.json') as f:\n",
    "    pirus_codebook = json.load(f)\n",
    "\n",
    "# Load Custom Color Map\n",
    "cmap = ['#E7E3DF', '#3186A9', '#EEAD9A', '#DBB03B', '#66759A', '#EBD79F', '#83684C', '#6D6E72', '#965341', '#8F917F', '#010503']\n",
    "sns.set_palette(sns.color_palette(cmap))\n",
    "sns.color_palette(cmap)"
   ]
  },
  {
   "cell_type": "code",
   "execution_count": 3,
   "metadata": {},
   "outputs": [
    {
     "name": "stderr",
     "output_type": "stream",
     "text": [
      "<ipython-input-3-9f68bf7ba30e>:21: SettingWithCopyWarning: \n",
      "A value is trying to be set on a copy of a slice from a DataFrame.\n",
      "Try using .loc[row_indexer,col_indexer] = value instead\n",
      "\n",
      "See the caveats in the documentation: https://pandas.pydata.org/pandas-docs/stable/user_guide/indexing.html#returning-a-view-versus-a-copy\n",
      "  gendered_ideology['val'] = pd.Series([1 for i in range(len(gendered_ideology.index))])\n",
      "<ipython-input-3-9f68bf7ba30e>:24: SettingWithCopyWarning: \n",
      "A value is trying to be set on a copy of a slice from a DataFrame.\n",
      "Try using .loc[row_indexer,col_indexer] = value instead\n",
      "\n",
      "See the caveats in the documentation: https://pandas.pydata.org/pandas-docs/stable/user_guide/indexing.html#returning-a-view-versus-a-copy\n",
      "  gendered_ideology['gender'] = gendered_ideology['gender'].apply(g_fun)\n",
      "<ipython-input-3-9f68bf7ba30e>:27: SettingWithCopyWarning: \n",
      "A value is trying to be set on a copy of a slice from a DataFrame.\n",
      "Try using .loc[row_indexer,col_indexer] = value instead\n",
      "\n",
      "See the caveats in the documentation: https://pandas.pydata.org/pandas-docs/stable/user_guide/indexing.html#returning-a-view-versus-a-copy\n",
      "  gendered_ideology['ideological_sub_category1'] = gendered_ideology['ideological_sub_category1'].apply(idsub_fun)\n"
     ]
    }
   ],
   "source": [
    "# Top Five Radical Ideologies by Gender\n",
    "\n",
    "# Build ideology function to map code names to codes\n",
    "ideology_codes = {'19': 'Male Supremacist','18': 'Other', '17': 'Anti-gay',\n",
    "               '16': 'Jewish Defense League','15': 'Anti-Abortion', '14': 'Cult',\n",
    "               '13': 'Irish Republican Army','12': 'Puerto Rican Nationalist',\n",
    "               '11': 'Islamist', '10': 'Anarchist','9': 'Communist',\n",
    "               '8': 'Black Nationalist','7': 'New Left', '6': 'Animal Rights/\\nEnvironmentalist',\n",
    "               '5': 'Christians','4': 'Anti-Government','3': 'Anti-Immigrant',\n",
    "               '2': 'White Supremacist','1': 'Militia/Gun Rights'}\n",
    "idsub_fun = lambda x: ideology_codes[str(x)]\n",
    "\n",
    "# Build gender function to map code names to codes\n",
    "g_codes = pirus_codebook['gender']['codes']\n",
    "g_fun = lambda x: g_codes[str(x)]\n",
    "\n",
    "# Load relevant pirus columns into new DataFrame (gendered_ideology)\n",
    "gendered_ideology = pirus[['gender','ideological_sub_category1']]\n",
    "\n",
    "# Append a column of 1s \n",
    "gendered_ideology['val'] = pd.Series([1 for i in range(len(gendered_ideology.index))])\n",
    "\n",
    "# Map gender code names to gender codes\n",
    "gendered_ideology['gender'] = gendered_ideology['gender'].apply(g_fun)\n",
    "\n",
    "# Map ideology code names to ideology codes\n",
    "gendered_ideology['ideological_sub_category1'] = gendered_ideology['ideological_sub_category1'].apply(idsub_fun)\n",
    "\n",
    "# Group by gender and ideology\n",
    "gendered_ideology = gendered_ideology.groupby(['gender','ideological_sub_category1'])\n",
    "\n",
    "# For each group, sum the val column & convert group obj to DataFrame\n",
    "gendered_ideology = gendered_ideology['val'].sum().to_frame(name = '# of instances').reset_index()\n",
    "\n",
    "# Get the top 5 ideologies for Females\n",
    "fem = gendered_ideology.loc[(gendered_ideology['gender']  == 'Female')]\n",
    "fem = fem.sort_values('# of instances', ascending = False)[:5]\n",
    "\n",
    "# Get the top 5 ideologies for Males\n",
    "men = gendered_ideology.loc[(gendered_ideology['gender']  == 'Male')]\n",
    "men = men.sort_values('# of instances', ascending = False)[:5]\n",
    "\n",
    "# Append top 5 ideologies into a single DataFrame\n",
    "gendered_ideology = pd.DataFrame.append(men,fem)"
   ]
  },
  {
   "cell_type": "code",
   "execution_count": 8,
   "metadata": {},
   "outputs": [
    {
     "data": {
      "image/png": "[encoded data removed]",
      "text/plain": [
       "<Figure size 504x360 with 1 Axes>"
      ]
     },
     "metadata": {
      "needs_background": "light"
     },
     "output_type": "display_data"
    }
   ],
   "source": [
    "# Plot Figure\n",
    "fig, ax = plt.subplots(figsize=(7,5))\n",
    "\n",
    "plot = sns.barplot(x = '# of instances', y = 'ideological_sub_category1', \n",
    "            hue = 'gender', data = gendered_ideology, \n",
    "            palette=['#66759A','#EEAD9A'], dodge=True, \n",
    "            linewidth=1.5, errcolor=\".2\", edgecolor=\".1\")\n",
    "\n",
    "# Set title\n",
    "ax.set_title('White Supremacy is the #1 Radical Ideology for Men', weight='bold',\n",
    "             loc = 'center', pad = 20).set_fontsize('18')\n",
    "\n",
    "# Adjust y axis\n",
    "ax.set_ylabel(\"\")\n",
    "ax.set_yticklabels(ax.get_yticklabels(), fontsize=14)\n",
    "\n",
    "# Adjust x axis\n",
    "ax.set(xlim = (0,600))\n",
    "ax.set_xlabel(\"Radical Count\", fontsize = 14)\n",
    "\n",
    "# Remove Legend\n",
    "ax.get_legend().remove()\n",
    "\n",
    "# Add annotations\n",
    "annote1 = 'Men'\n",
    "plt.text(525, -.1, annote1, horizontalalignment='left', size=14, color='#010503', weight='normal')\n",
    "\n",
    "annote2 = 'Women'\n",
    "plt.text(40, .3, annote2, horizontalalignment='left', size=14, color='#010503', weight='normal')\n",
    "\n",
    "plt.show()"
   ]
  }
 ],
 "metadata": {
  "kernelspec": {
   "display_name": "Python 3",
   "language": "python",
   "name": "python3"
  },
  "language_info": {
   "codemirror_mode": {
    "name": "ipython",
    "version": 3
   },
   "file_extension": ".py",
   "mimetype": "text/x-python",
   "name": "python",
   "nbconvert_exporter": "python",
   "pygments_lexer": "ipython3",
   "version": "3.8.5"
  }
 },
 "nbformat": 4,
 "nbformat_minor": 4
}
